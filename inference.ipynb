{
 "cells": [
  {
   "cell_type": "code",
   "execution_count": 17,
   "id": "initial_id",
   "metadata": {
    "collapsed": true,
    "ExecuteTime": {
     "end_time": "2024-01-04T23:48:15.281715700Z",
     "start_time": "2024-01-04T23:48:15.242717600Z"
    }
   },
   "outputs": [],
   "source": [
    "import warnings\n",
    "import pandas as pd\n",
    "from transformers import AutoTokenizer, AutoModelForCausalLM, pipeline\n",
    "\n",
    "from src.config import settings\n",
    "\n",
    "\n",
    "warnings.filterwarnings('ignore')"
   ]
  },
  {
   "cell_type": "code",
   "outputs": [],
   "source": [
    "# Loading tokenizer and model weights from file\n",
    "tokenizer = AutoTokenizer.from_pretrained(settings.MODEL_WEIGHT_PATH)\n",
    "tokenizer.pad_token = tokenizer.eos_token\n",
    "\n",
    "model = AutoModelForCausalLM.from_pretrained(settings.MODEL_WEIGHT_PATH)\n",
    "\n",
    "text_generator = pipeline(\"text-generation\", model=model, tokenizer=tokenizer)"
   ],
   "metadata": {
    "collapsed": false,
    "ExecuteTime": {
     "end_time": "2024-01-04T23:48:16.190274400Z",
     "start_time": "2024-01-04T23:48:15.254715100Z"
    }
   },
   "id": "78da66e41ed479be",
   "execution_count": 18
  },
  {
   "cell_type": "code",
   "outputs": [
    {
     "name": "stderr",
     "output_type": "stream",
     "text": [
      "Setting `pad_token_id` to `eos_token_id`:50256 for open-end generation.\n"
     ]
    }
   ],
   "source": [
    "# Testing the model with a prompt\n",
    "input_prompt = \"I like coding and\"\n",
    "generated_texts = text_generator(input_prompt, max_length=50, num_return_sequences=1)"
   ],
   "metadata": {
    "collapsed": false,
    "ExecuteTime": {
     "end_time": "2024-01-04T23:48:16.813098700Z",
     "start_time": "2024-01-04T23:48:16.194275500Z"
    }
   },
   "id": "3e6e335cf9de8941",
   "execution_count": 19
  },
  {
   "cell_type": "code",
   "outputs": [
    {
     "name": "stdout",
     "output_type": "stream",
     "text": [
      "I like coding and getting around to coding, and that‍‒ ‹\n"
     ]
    }
   ],
   "source": [
    "print(generated_texts[0]['generated_text'])"
   ],
   "metadata": {
    "collapsed": false,
    "ExecuteTime": {
     "end_time": "2024-01-04T23:48:16.824840100Z",
     "start_time": "2024-01-04T23:48:16.816100500Z"
    }
   },
   "id": "b404a148f6560ae",
   "execution_count": 20
  },
  {
   "cell_type": "code",
   "outputs": [
    {
     "name": "stderr",
     "output_type": "stream",
     "text": [
      "Setting `pad_token_id` to `eos_token_id`:50256 for open-end generation.\n"
     ]
    },
    {
     "name": "stdout",
     "output_type": "stream",
     "text": [
      "I like coding and I just like what I do.\"\n",
      "\n",
      "\n",
      "\n",
      "\n",
      "\n",
      "In a video that will be posted to YouTube shortly, Scott tells me he's just a couple of hours away from taking the vacation (which he said is great,\n"
     ]
    }
   ],
   "source": [
    "# Getting user input and generating text\n",
    "user_input = input('Give me a prompt...')\n",
    "generated_texts = text_generator(input_prompt, max_length=50, num_return_sequences=1)\n",
    "\n",
    "print(generated_texts[0]['generated_text'])"
   ],
   "metadata": {
    "collapsed": false,
    "ExecuteTime": {
     "end_time": "2024-01-04T23:48:22.794052500Z",
     "start_time": "2024-01-04T23:48:16.825842Z"
    }
   },
   "id": "4ddcc3fdc5355d3d",
   "execution_count": 21
  }
 ],
 "metadata": {
  "kernelspec": {
   "display_name": "Python 3",
   "language": "python",
   "name": "python3"
  },
  "language_info": {
   "codemirror_mode": {
    "name": "ipython",
    "version": 2
   },
   "file_extension": ".py",
   "mimetype": "text/x-python",
   "name": "python",
   "nbconvert_exporter": "python",
   "pygments_lexer": "ipython2",
   "version": "2.7.6"
  }
 },
 "nbformat": 4,
 "nbformat_minor": 5
}
